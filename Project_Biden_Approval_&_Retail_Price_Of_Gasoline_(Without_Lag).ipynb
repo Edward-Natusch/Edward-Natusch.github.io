{
  "nbformat": 4,
  "nbformat_minor": 0,
  "metadata": {
    "colab": {
      "name": "Project_Biden_Approval_&_Retail_Price_Of_Gasoline_(Without_Lag).ipynb",
      "provenance": []
    },
    "kernelspec": {
      "name": "python3",
      "display_name": "Python 3"
    },
    "language_info": {
      "name": "python"
    }
  },
  "cells": [
    {
      "cell_type": "code",
      "execution_count": 12,
      "metadata": {
        "id": "PFP-oALm-u82"
      },
      "outputs": [],
      "source": [
        "# Project: Do changes in fuel prices affect political support?\n",
        "\n",
        "# Edward Natusch - Data Science Project - University of Bristol \n",
        "\n",
        "# In this notebook, I will scrape presidential polling data (collected daily) for Biden from Rasmussen Reports using pandas.\n",
        "\n",
        "# I will then clean this data.\n",
        "\n",
        "# I will then download retail gasoline prices (collected weekly) from the FRED API.\n",
        "\n",
        "# I will then merge this data and export it in a CSV so I can visualise it in Vega Lite.\n",
        "\n",
        "# The retail price of gasoline (all grades all formulations) is collected every monday at 8am by the US Energy Information Administration.\n",
        "# More information on their methodology can be found here: https://www.eia.gov/petroleum/gasdiesel/gas_proc-methods.php.\n",
        "\n",
        "# The Polling Data for Rasmussen Reports Presidential Polls is collected via auomated landline telephone calls during the hours of 9am to 5pm during the week.\n",
        "# More information on their methodology can be found here: https://www.rasmussenreports.com/public_content/about_us/methodology.\n"
      ]
    },
    {
      "cell_type": "code",
      "source": [
        "# Scraping the polling data from Rasmussen Reports using Pandas.\n",
        "\n",
        "import pandas as pd\n",
        "\n",
        "Biden_Approval = pd.read_html('https://www.rasmussenreports.com/public_content/politics/Biden_administration/Biden_approval_index_history')\n",
        "\n",
        "# Loading and cleaning the data \n",
        "\n",
        "DF_Biden_Approval = Biden_Approval[0]\n",
        "\n",
        "DF_Biden_Approval[\"Date\"] = pd.to_datetime(DF_Biden_Approval[\"Date\"])\n",
        "\n",
        "DF_Biden_Approval['Total Approve'] = DF_Biden_Approval['Total Approve'].str.replace('%',' ')\n",
        "DF_Biden_Approval['Total Approve'] = pd.to_numeric(DF_Biden_Approval['Total Approve'], errors ='coerce')\n",
        "DF_Biden_Approval.dropna(subset = [\"Total Approve\"], inplace=True)\n",
        "\n",
        "DF_Biden_Approval['Total Disapprove'] = DF_Biden_Approval['Total Disapprove'].str.replace('%',' ')\n",
        "DF_Biden_Approval['Total Disapprove'] = pd.to_numeric(DF_Biden_Approval['Total Disapprove'], errors ='coerce')\n",
        "DF_Biden_Approval.dropna(subset = [\"Total Disapprove\"], inplace=True)\n",
        "\n",
        "DF_Biden_Approval['Strongly Approve'] = DF_Biden_Approval['Strongly Approve'].str.replace('%',' ')\n",
        "DF_Biden_Approval['Strongly Approve'] = pd.to_numeric(DF_Biden_Approval['Strongly Approve'], errors ='coerce')\n",
        "DF_Biden_Approval.dropna(subset = [\"Strongly Approve\"], inplace=True)\n",
        "\n",
        "\n",
        "DF_Biden_Approval['Strongly Disapprove'] = DF_Biden_Approval['Strongly Disapprove'].str.replace('%',' ')\n",
        "DF_Biden_Approval['Strongly Disapprove'] = pd.to_numeric(DF_Biden_Approval['Strongly Disapprove'], errors ='coerce')\n",
        "DF_Biden_Approval.dropna(subset = [\"Strongly Disapprove\"], inplace=True)"
      ],
      "metadata": {
        "id": "-kWhpNDBEf9N"
      },
      "execution_count": 11,
      "outputs": []
    },
    {
      "cell_type": "code",
      "source": [
        "# Importing the required packages to download the data from the FRED API.\n",
        "\n",
        "import requests\n",
        "\n",
        "import os \n",
        "\n",
        "import json\n",
        "\n",
        "from google.colab import files"
      ],
      "metadata": {
        "id": "YGrxC8KqEmPx"
      },
      "execution_count": 10,
      "outputs": []
    },
    {
      "cell_type": "code",
      "source": [
        "# Downloading the Json file from th Fred API and loading it into a pandas data frame \n",
        "\n",
        "url = 'https://api.stlouisfed.org/fred/series/observations?series_id=GASALLW&api_key=e725511ce5615fe46441618aca9c09bf&file_type=json'\n",
        "\n",
        "data = requests.get(url)\n",
        "\n",
        "Retail_Gasoline_Consumer_Price = data.json()\n",
        "\n",
        "Observations = Retail_Gasoline_Consumer_Price['observations']\n",
        "\n",
        "Retail_Gasoline_Consumer_Price_Array=[]\n",
        "\n",
        "for x in Observations:\n",
        "  temp_variable={'date':x['date'],'value':x['value']}\n",
        "  Retail_Gasoline_Consumer_Price_Array.append(temp_variable)\n",
        "\n",
        "DF_Retail_Gasoline_Price  = pd.DataFrame(Retail_Gasoline_Consumer_Price_Array)\n",
        "\n",
        "# Adding New Column Names \n",
        "\n",
        "DF_Retail_Gasoline_Price.columns = ['Date','Retail Price of Gasoline (Dollars per Gallon)']\n",
        "\n",
        "# Formatting Dates\n",
        "\n",
        "DF_Retail_Gasoline_Price['Date'] = pd.to_datetime(DF_Retail_Gasoline_Price['Date'])\n",
        "\n",
        "# Formatting Price Index\n",
        "\n",
        "DF_Retail_Gasoline_Price['Retail Price of Gasoline (Dollars per Gallon)'] = pd.to_numeric(DF_Retail_Gasoline_Price['Retail Price of Gasoline (Dollars per Gallon)'], errors ='coerce')\n"
      ],
      "metadata": {
        "id": "ySFeuP2lEnKS"
      },
      "execution_count": 9,
      "outputs": []
    },
    {
      "cell_type": "code",
      "source": [
        "# Merging the data from the two data sources to create a single data set \n",
        "\n",
        "DF_Biden_Approval_Weekly_With_Gasoline_Prices = DF_Biden_Approval.merge(DF_Retail_Gasoline_Price, left_on='Date', right_on='Date')\n",
        "\n",
        "# Creating a month field\n",
        "\n",
        "DF_Biden_Approval_Weekly_With_Gasoline_Prices['Month'] = pd.DatetimeIndex(DF_Biden_Approval_Weekly_With_Gasoline_Prices['Date']).month\n",
        "\n",
        "# Exporting the data to csv\n",
        "\n",
        "DF_Biden_Approval_Weekly_With_Gasoline_Prices.to_csv(\"Project_President_Biden_Polling_Weekly_Retail_Price_of_Gasoline_Without_Lag.csv\")\n"
      ],
      "metadata": {
        "id": "qyL2_YvjErNC"
      },
      "execution_count": 8,
      "outputs": []
    }
  ]
}
