{
  "nbformat": 4,
  "nbformat_minor": 0,
  "metadata": {
    "colab": {
      "name": "Homework8DataStories.ipynb",
      "provenance": []
    },
    "kernelspec": {
      "name": "python3",
      "display_name": "Python 3"
    },
    "language_info": {
      "name": "python"
    }
  },
  "cells": [
    {
      "cell_type": "code",
      "execution_count": 48,
      "metadata": {
        "id": "X19vVk6gEvOx"
      },
      "outputs": [],
      "source": [
        "# Homework 8 Data Stories \n",
        "\n",
        "# Downloading and cleaning the seasonally adjusted trade in goods and services data set from the ONS api.\n",
        "\n",
        "# The date is given in the format 'YYYY QX'. This cannot be read by Vega-lite so I have used pandas to create a readable date format."
      ]
    },
    {
      "cell_type": "code",
      "source": [
        "#Importing the required packages.\n",
        "import requests \n",
        "import pandas as pd"
      ],
      "metadata": {
        "id": "zOW4sXDmFQd2"
      },
      "execution_count": 2,
      "outputs": []
    },
    {
      "cell_type": "code",
      "source": [
        "url = 'https://api.ons.gov.uk/timeseries/L864/dataset/ukea/data'\n",
        "html = requests.get(url)\n",
        "ONS_Imports_Data = html.json()"
      ],
      "metadata": {
        "id": "ebYsQjopFUld"
      },
      "execution_count": 4,
      "outputs": []
    },
    {
      "cell_type": "code",
      "source": [
        "Quarters = ONS_Imports_Data['quarters']"
      ],
      "metadata": {
        "id": "fo7GT9iCFtN5"
      },
      "execution_count": 31,
      "outputs": []
    },
    {
      "cell_type": "code",
      "source": [
        "# Appending the observations from the date and value categories in the JSON file. \n",
        "\n",
        "ONS_ARRAY=[]\n",
        "for quarter in Quarters:\n",
        "  temp_variable={'date':quarter['date'],'value':quarter['value']}\n",
        "  ONS_ARRAY.append(temp_variable)"
      ],
      "metadata": {
        "id": "dcfwTvYhGg4M"
      },
      "execution_count": 38,
      "outputs": []
    },
    {
      "cell_type": "code",
      "source": [
        "# Cleaning the dates, standardising the format and exporting to CSV.\n",
        "df=pd.DataFrame(ONS_ARRAY)\n",
        "df['date'] = df['date'].str.replace('Q1','January').str.replace('Q2','April').str.replace('Q2','April').str.replace('Q3','July').str.replace('Q4','October')\n",
        "df[\"date\"] = pd.to_datetime(df[\"date\"])\n",
        "df.to_csv(\"Homework8_DataStories_EUImports.csv\")\n"
      ],
      "metadata": {
        "id": "GQ0RiajmLp2Y"
      },
      "execution_count": 52,
      "outputs": []
    }
  ]
}
