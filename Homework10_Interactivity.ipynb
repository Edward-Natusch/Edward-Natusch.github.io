{
  "nbformat": 4,
  "nbformat_minor": 0,
  "metadata": {
    "colab": {
      "name": "Homework10_Interactivity.ipynb",
      "provenance": [],
      "collapsed_sections": []
    },
    "kernelspec": {
      "name": "python3",
      "display_name": "Python 3"
    },
    "language_info": {
      "name": "python"
    }
  },
  "cells": [
    {
      "cell_type": "code",
      "source": [
        "# Homework 10 - Creating an interactive chart \n",
        "\n",
        "# In this notebook I will obtain the data to be charted in Vega Lite\n",
        "\n",
        "# President Obama Polling Data - Scraped from rasmussen reports using pandas \n",
        "\n",
        "# Retail Gasoline Prices - downloaded from the fred api"
      ],
      "metadata": {
        "id": "D5JofJqb_s4w"
      },
      "execution_count": 11,
      "outputs": []
    },
    {
      "cell_type": "code",
      "execution_count": 12,
      "metadata": {
        "id": "BuTnGubrxgn5"
      },
      "outputs": [],
      "source": [
        "import pandas as pd\n",
        "\n",
        "Obama_Approval = pd.read_html('https://www.rasmussenreports.com/public_content/politics/obama_administration/obama_approval_index_history')\n",
        "\n",
        "# Loading and cleaning the data \n",
        "\n",
        "DF_Obama_Approval = Obama_Approval[0]\n",
        "\n",
        "DF_Obama_Approval[\"Date\"] = pd.to_datetime(DF_Obama_Approval[\"Date\"])\n",
        "\n",
        "DF_Obama_Approval['Total Approve'] = DF_Obama_Approval['Total Approve'].str.replace('%',' ')\n",
        "DF_Obama_Approval['Total Approve'] = pd.to_numeric(DF_Obama_Approval['Total Approve'], errors ='coerce')\n",
        "DF_Obama_Approval.dropna(subset = [\"Total Approve\"], inplace=True)\n",
        "\n",
        "DF_Obama_Approval['Total Disapprove'] = DF_Obama_Approval['Total Disapprove'].str.replace('%',' ')\n",
        "DF_Obama_Approval['Total Disapprove'] = pd.to_numeric(DF_Obama_Approval['Total Disapprove'], errors ='coerce')\n",
        "DF_Obama_Approval.dropna(subset = [\"Total Disapprove\"], inplace=True)\n",
        "\n",
        "DF_Obama_Approval['Strongly Approve'] = DF_Obama_Approval['Strongly Approve'].str.replace('%',' ')\n",
        "DF_Obama_Approval['Strongly Approve'] = pd.to_numeric(DF_Obama_Approval['Strongly Approve'], errors ='coerce')\n",
        "DF_Obama_Approval.dropna(subset = [\"Strongly Approve\"], inplace=True)\n",
        "\n",
        "\n",
        "DF_Obama_Approval['Strongly Disapprove'] = DF_Obama_Approval['Strongly Disapprove'].str.replace('%',' ')\n",
        "DF_Obama_Approval['Strongly Disapprove'] = pd.to_numeric(DF_Obama_Approval['Strongly Disapprove'], errors ='coerce')\n",
        "DF_Obama_Approval.dropna(subset = [\"Strongly Disapprove\"], inplace=True)\n",
        "\n",
        "# Creating Weekly averages for presidential approval\n",
        "\n",
        "DF_Obama_Approval_Weekly = DF_Obama_Approval.resample('W', on='Date').mean().reset_index()\n",
        "\n",
        "# off-setting the day by 1 so the weekly average of the previous week is reflected on the monday of the next week.\n",
        "# (This is so the data can be merged with the FRED data, which has a weekly frequency ending Monday)\n",
        "\n",
        "DF_Obama_Approval_Weekly['Date'] = pd.DatetimeIndex(DF_Obama_Approval_Weekly['Date']) + pd.DateOffset(1)"
      ]
    },
    {
      "cell_type": "code",
      "source": [
        "# Importing the required packages to download the data from the api.\n",
        "\n",
        "import requests\n",
        "\n",
        "import os \n",
        "\n",
        "import json\n",
        "\n",
        "from google.colab import files"
      ],
      "metadata": {
        "id": "khaqOMdQCLTD"
      },
      "execution_count": 13,
      "outputs": []
    },
    {
      "cell_type": "code",
      "source": [
        "# Downloading the Json file from th Fred api and loading it into a pandas data frame \n",
        "\n",
        "url = 'https://api.stlouisfed.org/fred/series/observations?series_id=GASALLW&api_key=e725511ce5615fe46441618aca9c09bf&file_type=json'\n",
        "\n",
        "data = requests.get(url)\n",
        "\n",
        "Retail_Gasoline_Consumer_Price = data.json()\n",
        "\n",
        "Observations = Retail_Gasoline_Consumer_Price['observations']\n",
        "\n",
        "Retail_Gasoline_Consumer_Price_Array=[]\n",
        "\n",
        "for x in Observations:\n",
        "  temp_variable={'date':x['date'],'value':x['value']}\n",
        "  Retail_Gasoline_Consumer_Price_Array.append(temp_variable)\n",
        "\n",
        "DF_Retail_Gasoline_Price  = pd.DataFrame(Retail_Gasoline_Consumer_Price_Array)\n",
        "\n",
        "# Adding New Column Names \n",
        "\n",
        "DF_Retail_Gasoline_Price.columns = ['Date','Retail Price of Gasoline (Dollars per Gallon)']\n",
        "\n",
        "# Formatting Dates\n",
        "\n",
        "DF_Retail_Gasoline_Price['Date'] = pd.to_datetime(DF_Retail_Gasoline_Price['Date'])\n",
        "\n",
        "# Formatting Price Index\n",
        "\n",
        "DF_Retail_Gasoline_Price['Retail Price of Gasoline (Dollars per Gallon)'] = pd.to_numeric(DF_Retail_Gasoline_Price['Retail Price of Gasoline (Dollars per Gallon)'], errors ='coerce')\n"
      ],
      "metadata": {
        "id": "7e3NmyA1CQrA"
      },
      "execution_count": 14,
      "outputs": []
    },
    {
      "cell_type": "code",
      "source": [
        "# Merging the data from the two data sources to create a single data set \n",
        "\n",
        "DF_Obama_Approval_Weekly_With_Gasoline_Prices = DF_Obama_Approval_Weekly.merge(DF_Retail_Gasoline_Price, left_on='Date', right_on='Date')\n",
        "\n",
        "# Creating a new year field, so a slider in vega lite based on the year field can be produced\n",
        "\n",
        "DF_Obama_Approval_Weekly_With_Gasoline_Prices['Year'] = pd.DatetimeIndex(DF_Obama_Approval_Weekly_With_Gasoline_Prices['Date']).year\n",
        "\n",
        "DF_Obama_Approval_Weekly_With_Gasoline_Prices.to_csv(\"Homework10_President_Obama_Polling_Weekly_Retail_Price_of_Gasoline.csv\")"
      ],
      "metadata": {
        "id": "_crG-o11rWd5"
      },
      "execution_count": 15,
      "outputs": []
    }
  ]
}