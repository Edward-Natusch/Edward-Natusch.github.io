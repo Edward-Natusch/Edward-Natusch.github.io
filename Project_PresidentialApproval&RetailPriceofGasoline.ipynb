{
  "nbformat": 4,
  "nbformat_minor": 0,
  "metadata": {
    "colab": {
      "name": "Project_PresidentialApproval&RetailPriceofGasoline.ipynb",
      "provenance": [],
      "collapsed_sections": []
    },
    "kernelspec": {
      "name": "python3",
      "display_name": "Python 3"
    },
    "language_info": {
      "name": "python"
    }
  },
  "cells": [
    {
      "cell_type": "code",
      "source": [
        "# Project: Does the retail price of gasoline affect US presidential approval?\n",
        "\n",
        "# Edward Natusch - Data Science - University of Bristol \n",
        "\n",
        "# In this notebook, I will scrape presidential Polling Data for Biden, Trump and Obama from Rasmussen Reports using pandas.\n",
        "\n",
        "# I will then download retail gasoline prices (all grades all formulations) from the Fred API.\n",
        "\n",
        "# I will then merge data these data sets, creating CSVs with weekly polling averages and the weekly retail price of gasoline for each presidency."
      ],
      "metadata": {
        "id": "D5JofJqb_s4w"
      },
      "execution_count": 2,
      "outputs": []
    },
    {
      "cell_type": "code",
      "execution_count": 3,
      "metadata": {
        "id": "BuTnGubrxgn5"
      },
      "outputs": [],
      "source": [
        "import pandas as pd\n",
        "\n",
        "Trump_Approval = pd.read_html('https://www.rasmussenreports.com/public_content/politics/Trump_administration/Trump_approval_index_history')\n",
        "\n",
        "# Loading and cleaning the data \n",
        "\n",
        "DF_Trump_Approval = Trump_Approval[0]\n",
        "\n",
        "DF_Trump_Approval[\"Date\"] = pd.to_datetime(DF_Trump_Approval[\"Date\"])\n",
        "\n",
        "DF_Trump_Approval['Total Approve'] = DF_Trump_Approval['Total Approve'].str.replace('%',' ')\n",
        "DF_Trump_Approval['Total Approve'] = pd.to_numeric(DF_Trump_Approval['Total Approve'], errors ='coerce')\n",
        "DF_Trump_Approval.dropna(subset = [\"Total Approve\"], inplace=True)\n",
        "\n",
        "DF_Trump_Approval['Total Disapprove'] = DF_Trump_Approval['Total Disapprove'].str.replace('%',' ')\n",
        "DF_Trump_Approval['Total Disapprove'] = pd.to_numeric(DF_Trump_Approval['Total Disapprove'], errors ='coerce')\n",
        "DF_Trump_Approval.dropna(subset = [\"Total Disapprove\"], inplace=True)\n",
        "\n",
        "DF_Trump_Approval['Strongly Approve'] = DF_Trump_Approval['Strongly Approve'].str.replace('%',' ')\n",
        "DF_Trump_Approval['Strongly Approve'] = pd.to_numeric(DF_Trump_Approval['Strongly Approve'], errors ='coerce')\n",
        "DF_Trump_Approval.dropna(subset = [\"Strongly Approve\"], inplace=True)\n",
        "\n",
        "\n",
        "DF_Trump_Approval['Strongly Disapprove'] = DF_Trump_Approval['Strongly Disapprove'].str.replace('%',' ')\n",
        "DF_Trump_Approval['Strongly Disapprove'] = pd.to_numeric(DF_Trump_Approval['Strongly Disapprove'], errors ='coerce')\n",
        "DF_Trump_Approval.dropna(subset = [\"Strongly Disapprove\"], inplace=True)\n",
        "\n",
        "# Creating Weekly averages for presidential approval\n",
        "\n",
        "DF_Trump_Approval_Weekly = DF_Trump_Approval.resample('W', on='Date').mean().reset_index()\n",
        "\n",
        "# off-setting the day by 1 so the weekly average of the previous week is reflected on the monday of the next week.\n",
        "# (This is so the data can be merged with the FRED data, which has a weekly frequency ending Monday)\n",
        "\n",
        "DF_Trump_Approval_Weekly['Date'] = pd.DatetimeIndex(DF_Trump_Approval_Weekly['Date']) + pd.DateOffset(1)"
      ]
    },
    {
      "cell_type": "code",
      "source": [
        "# Importing the required packages to download the data from the API.\n",
        "\n",
        "import requests\n",
        "\n",
        "import os \n",
        "\n",
        "import json\n",
        "\n",
        "from google.colab import files"
      ],
      "metadata": {
        "id": "khaqOMdQCLTD"
      },
      "execution_count": 4,
      "outputs": []
    },
    {
      "cell_type": "code",
      "source": [
        "# Downloading the Json file from th Fred API and loading it into a pandas data frame \n",
        "\n",
        "url = 'https://api.stlouisfed.org/fred/series/observations?series_id=GASALLW&api_key=e725511ce5615fe46441618aca9c09bf&file_type=json'\n",
        "\n",
        "data = requests.get(url)\n",
        "\n",
        "Retail_Gasoline_Consumer_Price = data.json()\n",
        "\n",
        "Observations = Retail_Gasoline_Consumer_Price['observations']\n",
        "\n",
        "Retail_Gasoline_Consumer_Price_Array=[]\n",
        "\n",
        "for x in Observations:\n",
        "  temp_variable={'date':x['date'],'value':x['value']}\n",
        "  Retail_Gasoline_Consumer_Price_Array.append(temp_variable)\n",
        "\n",
        "DF_Retail_Gasoline_Price  = pd.DataFrame(Retail_Gasoline_Consumer_Price_Array)\n",
        "\n",
        "# Adding New Column Names \n",
        "\n",
        "DF_Retail_Gasoline_Price.columns = ['Date','Retail Price of Gasoline (Dollars per Gallon)']\n",
        "\n",
        "# Formatting Dates\n",
        "\n",
        "DF_Retail_Gasoline_Price['Date'] = pd.to_datetime(DF_Retail_Gasoline_Price['Date'])\n",
        "\n",
        "# Formatting Price Index\n",
        "\n",
        "DF_Retail_Gasoline_Price['Retail Price of Gasoline (Dollars per Gallon)'] = pd.to_numeric(DF_Retail_Gasoline_Price['Retail Price of Gasoline (Dollars per Gallon)'], errors ='coerce')\n"
      ],
      "metadata": {
        "id": "7e3NmyA1CQrA"
      },
      "execution_count": 5,
      "outputs": []
    },
    {
      "cell_type": "code",
      "source": [
        "# Merging the data from the two data sources to create a single data set \n",
        "\n",
        "DF_Trump_Approval_Weekly_With_Gasoline_Prices = DF_Trump_Approval_Weekly.merge(DF_Retail_Gasoline_Price, left_on='Date', right_on='Date')\n",
        "\n",
        "# Creating a new year field, so a slider in vega lite based on the year field can be produced\n",
        "\n",
        "DF_Trump_Approval_Weekly_With_Gasoline_Prices['Year'] = pd.DatetimeIndex(DF_Trump_Approval_Weekly_With_Gasoline_Prices['Date']).year\n",
        "\n",
        "DF_Trump_Approval_Weekly_With_Gasoline_Prices.to_csv(\"Project_President_Trump_Polling_Weekly_Retail_Price_of_Gasoline.csv\")"
      ],
      "metadata": {
        "id": "_crG-o11rWd5"
      },
      "execution_count": 6,
      "outputs": []
    },
    {
      "cell_type": "code",
      "source": [
        "# Creating the same data set for Barack Obama\n",
        "\n",
        "import pandas as pd\n",
        "\n",
        "Obama_Approval = pd.read_html('https://www.rasmussenreports.com/public_content/politics/obama_administration/obama_approval_index_history')\n",
        "\n",
        "# Loading and cleaning the data \n",
        "\n",
        "DF_Obama_Approval = Obama_Approval[0]\n",
        "\n",
        "DF_Obama_Approval[\"Date\"] = pd.to_datetime(DF_Obama_Approval[\"Date\"])\n",
        "\n",
        "DF_Obama_Approval['Total Approve'] = DF_Obama_Approval['Total Approve'].str.replace('%',' ')\n",
        "DF_Obama_Approval['Total Approve'] = pd.to_numeric(DF_Obama_Approval['Total Approve'], errors ='coerce')\n",
        "DF_Obama_Approval.dropna(subset = [\"Total Approve\"], inplace=True)\n",
        "\n",
        "DF_Obama_Approval['Total Disapprove'] = DF_Obama_Approval['Total Disapprove'].str.replace('%',' ')\n",
        "DF_Obama_Approval['Total Disapprove'] = pd.to_numeric(DF_Obama_Approval['Total Disapprove'], errors ='coerce')\n",
        "DF_Obama_Approval.dropna(subset = [\"Total Disapprove\"], inplace=True)\n",
        "\n",
        "DF_Obama_Approval['Strongly Approve'] = DF_Obama_Approval['Strongly Approve'].str.replace('%',' ')\n",
        "DF_Obama_Approval['Strongly Approve'] = pd.to_numeric(DF_Obama_Approval['Strongly Approve'], errors ='coerce')\n",
        "DF_Obama_Approval.dropna(subset = [\"Strongly Approve\"], inplace=True)\n",
        "\n",
        "\n",
        "DF_Obama_Approval['Strongly Disapprove'] = DF_Obama_Approval['Strongly Disapprove'].str.replace('%',' ')\n",
        "DF_Obama_Approval['Strongly Disapprove'] = pd.to_numeric(DF_Obama_Approval['Strongly Disapprove'], errors ='coerce')\n",
        "DF_Obama_Approval.dropna(subset = [\"Strongly Disapprove\"], inplace=True)\n",
        "\n",
        "# Creating Weekly averages for presidential approval\n",
        "\n",
        "DF_Obama_Approval_Weekly = DF_Obama_Approval.resample('W', on='Date').mean().reset_index()\n",
        "\n",
        "# off-setting the day by 1 so the weekly average of the previous week is reflected on the monday of the next week.\n",
        "# (This is so the data can be merged with the FRED data, which has a weekly frequency ending Monday)\n",
        "\n",
        "DF_Obama_Approval_Weekly['Date'] = pd.DatetimeIndex(DF_Obama_Approval_Weekly['Date']) + pd.DateOffset(1)"
      ],
      "metadata": {
        "id": "fVwG3kDfoiKX"
      },
      "execution_count": 7,
      "outputs": []
    },
    {
      "cell_type": "code",
      "source": [
        "# Merging the data from the two data sources to create a single data set \n",
        "\n",
        "DF_Obama_Approval_Weekly_With_Gasoline_Prices = DF_Obama_Approval_Weekly.merge(DF_Retail_Gasoline_Price, left_on='Date', right_on='Date')\n",
        "\n",
        "# Creating a new year field, so a slider in vega lite based on the year field can be produced\n",
        "\n",
        "DF_Obama_Approval_Weekly_With_Gasoline_Prices['Year'] = pd.DatetimeIndex(DF_Obama_Approval_Weekly_With_Gasoline_Prices['Date']).year\n",
        "\n",
        "DF_Obama_Approval_Weekly_With_Gasoline_Prices.to_csv(\"Project_President_Obama_Polling_Weekly_Retail_Price_of_Gasoline.csv\")"
      ],
      "metadata": {
        "id": "U0k7m8z_pdDo"
      },
      "execution_count": 8,
      "outputs": []
    },
    {
      "cell_type": "code",
      "source": [
        "# Creating the same data set for President biden\n",
        "\n",
        "Biden_Approval = pd.read_html('https://www.rasmussenreports.com/public_content/politics/Biden_administration/Biden_approval_index_history')\n",
        "\n",
        "# Loading and cleaning the data \n",
        "\n",
        "DF_Biden_Approval = Biden_Approval[0]\n",
        "\n",
        "DF_Biden_Approval[\"Date\"] = pd.to_datetime(DF_Biden_Approval[\"Date\"])\n",
        "\n",
        "DF_Biden_Approval['Total Approve'] = DF_Biden_Approval['Total Approve'].str.replace('%',' ')\n",
        "DF_Biden_Approval['Total Approve'] = pd.to_numeric(DF_Biden_Approval['Total Approve'], errors ='coerce')\n",
        "DF_Biden_Approval.dropna(subset = [\"Total Approve\"], inplace=True)\n",
        "\n",
        "DF_Biden_Approval['Total Disapprove'] = DF_Biden_Approval['Total Disapprove'].str.replace('%',' ')\n",
        "DF_Biden_Approval['Total Disapprove'] = pd.to_numeric(DF_Biden_Approval['Total Disapprove'], errors ='coerce')\n",
        "DF_Biden_Approval.dropna(subset = [\"Total Disapprove\"], inplace=True)\n",
        "\n",
        "DF_Biden_Approval['Strongly Approve'] = DF_Biden_Approval['Strongly Approve'].str.replace('%',' ')\n",
        "DF_Biden_Approval['Strongly Approve'] = pd.to_numeric(DF_Biden_Approval['Strongly Approve'], errors ='coerce')\n",
        "DF_Biden_Approval.dropna(subset = [\"Strongly Approve\"], inplace=True)\n",
        "\n",
        "\n",
        "DF_Biden_Approval['Strongly Disapprove'] = DF_Biden_Approval['Strongly Disapprove'].str.replace('%',' ')\n",
        "DF_Biden_Approval['Strongly Disapprove'] = pd.to_numeric(DF_Biden_Approval['Strongly Disapprove'], errors ='coerce')\n",
        "DF_Biden_Approval.dropna(subset = [\"Strongly Disapprove\"], inplace=True)\n",
        "\n",
        "# Creating Weekly averages for presidential approval\n",
        "\n",
        "DF_Biden_Approval_Weekly = DF_Biden_Approval.resample('W', on='Date').mean().reset_index()\n",
        "\n",
        "# off-setting the day by 1 so the weekly average of the previous week is reflected on the monday of the next week.\n",
        "# (This is so the data can be merged with the FRED data, which has a weekly frequency ending Monday)\n",
        "\n",
        "DF_Biden_Approval_Weekly['Date'] = pd.DatetimeIndex(DF_Biden_Approval_Weekly['Date']) + pd.DateOffset(1)"
      ],
      "metadata": {
        "id": "E4bI70pbpk3D"
      },
      "execution_count": 9,
      "outputs": []
    },
    {
      "cell_type": "code",
      "source": [
        "# Merging the data from the two data sources to create a single data set \n",
        "\n",
        "DF_Biden_Approval_Weekly_With_Gasoline_Prices = DF_Biden_Approval_Weekly.merge(DF_Retail_Gasoline_Price, left_on='Date', right_on='Date')\n",
        "\n",
        "# Creating a new year field, so a slider in vega lite based on the month field can be produced\n",
        "\n",
        "DF_Biden_Approval_Weekly_With_Gasoline_Prices['Month'] = pd.DatetimeIndex(DF_Biden_Approval_Weekly_With_Gasoline_Prices['Date']).month\n",
        "\n",
        "DF_Biden_Approval_Weekly_With_Gasoline_Prices.to_csv(\"Project_President_Biden_Polling_Weekly_Retail_Price_of_Gasoline.csv\")"
      ],
      "metadata": {
        "id": "hiEP399up8FM"
      },
      "execution_count": 10,
      "outputs": []
    }
  ]
}